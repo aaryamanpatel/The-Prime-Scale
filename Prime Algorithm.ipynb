{
 "cells": [
  {
   "cell_type": "code",
   "execution_count": 3,
   "metadata": {},
   "outputs": [
    {
     "name": "stdout",
     "output_type": "stream",
     "text": [
      "It is divisible by 3.0\n",
      "It is not a prime number\n"
     ]
    }
   ],
   "source": [
    "#same code in a Jupyter notebook because why not\n",
    "\n",
    "from numpy import *\n",
    "\n",
    "n=input(\"Enter number:\")\n",
    "n=int(n)\n",
    "sqr=sqrt(n) #the number below which you need to check\n",
    "\n",
    "P=0.5615*sqr**(0.829) #gives you the number of primes below your number (approximately)\n",
    "P=int(P)\n",
    "\n",
    "prime = zeros((1,P))\n",
    "prime[0][0]=2\n",
    "cnt=1\n",
    "i=3\n",
    "while cnt!=P: #setting up the array of primes to test against\n",
    "    p=1  #assuming it is a prime\n",
    "    for j in range(cnt-1):\n",
    "        if i%prime[0][j]==0:\n",
    "            p=0\n",
    "            continue\n",
    "    if p==1:\n",
    "        prime[0][cnt]=i\n",
    "        cnt+=1\n",
    "    i+=1\n",
    "\n",
    "l=1\n",
    "\n",
    "for k in range(P): #testing the input against the primes\n",
    "    if n%prime[0][k]==0:\n",
    "        l=0\n",
    "        print(\"It is divisible by\",prime[0][k])\n",
    "        continue\n",
    "\n",
    "if(l==1):\n",
    "    print(\"It is a prime number\")\n",
    "else:\n",
    "    print(\"It is not a prime number\")"
   ]
  }
 ],
 "metadata": {
  "kernelspec": {
   "display_name": "Python 3",
   "language": "python",
   "name": "python3"
  },
  "language_info": {
   "codemirror_mode": {
    "name": "ipython",
    "version": 3
   },
   "file_extension": ".py",
   "mimetype": "text/x-python",
   "name": "python",
   "nbconvert_exporter": "python",
   "pygments_lexer": "ipython3",
   "version": "3.11.3"
  },
  "orig_nbformat": 4
 },
 "nbformat": 4,
 "nbformat_minor": 2
}
